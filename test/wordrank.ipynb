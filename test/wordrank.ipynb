{
 "cells": [
  {
   "cell_type": "code",
   "execution_count": null,
   "metadata": {},
   "outputs": [],
   "source": [
    "from krwordrank.sentence import summarize_with_sentences\n",
    "import json\n",
    "\n",
    "with open('train_original.json', 'r', encoding='UTF-8') as f:\n",
    "    json_data = json.load(f)"
   ]
  },
  {
   "cell_type": "code",
   "execution_count": null,
   "metadata": {},
   "outputs": [],
   "source": [
    "texts = []\n",
    "\n",
    "for i in range(0,5):\n",
    "    text = json_data['documents'][i]['text']\n",
    "    cnt = len(text)\n",
    "\n",
    "    for idx in range(cnt):\n",
    "        try:\n",
    "            print(text[idx][0]['sentence'] )\n",
    "            texts.append(text[idx][0]['sentence'] )\n",
    "        except:\n",
    "            pass"
   ]
  },
  {
   "cell_type": "code",
   "execution_count": null,
   "metadata": {},
   "outputs": [],
   "source": [
    "# arr = [[{'ee':'dddd'}]\n",
    "# , [{'ee':'dddd'}]\n",
    "# , [{'ee':'dddd'},{'dd':'eee'}]]\n",
    "\n",
    "# # print(arr[3][0]['ee'])\n",
    "# print(len(arr))\n",
    "\n",
    "for item in texts:\n",
    "    print(item)"
   ]
  },
  {
   "cell_type": "code",
   "execution_count": null,
   "metadata": {},
   "outputs": [],
   "source": [
    "keywords, sents = summarize_with_sentences(texts, num_keywords=100, num_keysents=10)\n",
    "\n",
    "print(keywords, sents)"
   ]
  },
  {
   "cell_type": "code",
   "execution_count": null,
   "metadata": {},
   "outputs": [],
   "source": [
    "penalty = lambda x:0 if (25 <= len(x) <= 80) else 1\n",
    "stopwords = {'위해', 'sinawi@hanmail.net', '이성훈'}\n",
    "\n",
    "keywords, sents = summarize_with_sentences(\n",
    "    texts,\n",
    "    penalty=penalty,\n",
    "    stopwords = stopwords,\n",
    "    diversity=0.5,\n",
    "    num_keywords=100,\n",
    "    num_keysents=10,\n",
    "    verbose=False\n",
    ")\n",
    "\n",
    "print(keywords)"
   ]
  }
 ],
 "metadata": {
  "kernelspec": {
   "display_name": "Python 3.9.13 ('base')",
   "language": "python",
   "name": "python3"
  },
  "language_info": {
   "codemirror_mode": {
    "name": "ipython",
    "version": 3
   },
   "file_extension": ".py",
   "mimetype": "text/x-python",
   "name": "python",
   "nbconvert_exporter": "python",
   "pygments_lexer": "ipython3",
   "version": "3.9.13"
  },
  "orig_nbformat": 4,
  "vscode": {
   "interpreter": {
    "hash": "f1a4a2f3c51900e879c65470871c76860eabd5596e5067eeaa31aed8adcbad33"
   }
  }
 },
 "nbformat": 4,
 "nbformat_minor": 2
}
