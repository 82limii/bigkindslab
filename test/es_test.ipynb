{
 "cells": [
  {
   "cell_type": "code",
   "execution_count": null,
   "metadata": {},
   "outputs": [],
   "source": [
    "from newsml_to_json import make_json\n",
    "from elasticsearch import Elasticsearch\n",
    "\n",
    "es = Elasticsearch('http://localhost:9199')\n",
    "\n",
    "mapping = {\n",
    "    \"settings\" : {\n",
    "        \"number_of_shards\": 6,\n",
    "        \"number_of_replicas\": 1\n",
    "    }\n",
    "}\n",
    "\n",
    "json_dict = make_json('../data/01100201.20211111000455001.xml')\n",
    "print(json_dict)\n",
    "# date = json_dict['NewsEnvelope']['DateAndTime'][:4]\n",
    "date = \"kpf_bigkindslab_v1.1_\" + json_dict['NewsEnvelope']['DateAndTime'][:6]\n",
    "print(date)\n"
   ]
  },
  {
   "cell_type": "code",
   "execution_count": null,
   "metadata": {},
   "outputs": [],
   "source": [
    "# index가 존재하는 지 확인\n",
    "# index 없을 경우 index 생성 후 doc 추가\n",
    "if es.indices.exists(index=date)==False:\n",
    "    es.indices.create(index=date, body=mapping)\n",
    "    print('create'+date)\n",
    "\n",
    "result = es.index(index=date, doc_type=\"_doc\", body=json_dict, id='222')\n",
    "\n",
    "print(result)"
   ]
  },
  {
   "cell_type": "code",
   "execution_count": null,
   "metadata": {},
   "outputs": [],
   "source": [
    "import datetime as dt\n",
    "from elasticsearch import Elasticsearch\n",
    "\n",
    "es = Elasticsearch('http://localhost:9199')\n",
    "\n",
    "cur_date = str(dt.datetime.now())[:10]\n",
    "index = 'kpf_bigkindslab_v1.1_'+cur_date[:4]\n",
    "print(index)\n",
    "\n",
    "body ={\n",
    "    \"size\":10000,\n",
    "    \"_source\":\"_id\",\n",
    "    \"query\":{\n",
    "        \"range\": {\n",
    "            \"NewsItem.Identification.NewsIdentifier.DateId\": {\n",
    "                \"gte\": cur_date.replace(\"-\",\"\")\n",
    "                ,\"lte\": cur_date.replace(\"-\",\"\")\n",
    "            }\n",
    "        }\n",
    "    }\n",
    "}\n",
    "\n",
    "resp = es.search(index=index,body=body)\n",
    "\n",
    "print(resp['hits']['hits'])"
   ]
  }
 ],
 "metadata": {
  "kernelspec": {
   "display_name": "Python 3 (ipykernel)",
   "language": "python",
   "name": "python3"
  },
  "language_info": {
   "codemirror_mode": {
    "name": "ipython",
    "version": 3
   },
   "file_extension": ".py",
   "mimetype": "text/x-python",
   "name": "python",
   "nbconvert_exporter": "python",
   "pygments_lexer": "ipython3",
   "version": "3.9.13"
  },
  "vscode": {
   "interpreter": {
    "hash": "f1a4a2f3c51900e879c65470871c76860eabd5596e5067eeaa31aed8adcbad33"
   }
  }
 },
 "nbformat": 4,
 "nbformat_minor": 2
}
