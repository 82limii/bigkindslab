{
 "cells": [
  {
   "cell_type": "code",
   "execution_count": 1,
   "metadata": {},
   "outputs": [],
   "source": [
    "import pymysql\n",
    "import sys\n",
    "sys.path.insert(0, '../')\n",
    "import auth_prop\n",
    "\n",
    "# log DB에서 불러오기\n",
    "mysql_auth = auth_prop.mysql\n",
    "\n",
    "def mysql_con():\n",
    "    # MySQL Connection 연결\n",
    "    con = pymysql.connect(host=mysql_auth['host'], user=mysql_auth['user'], password=mysql_auth['passwd']\n",
    "        ,db=mysql_auth['db'], charset=mysql_auth['charset'])\n",
    "\n",
    "    # Connection 으로부터 Cursor 생성\n",
    "    cur = con.cursor()\n",
    "\n",
    "    return con, cur"
   ]
  },
  {
   "cell_type": "code",
   "execution_count": null,
   "metadata": {},
   "outputs": [],
   "source": [
    "def success_log(news_id, prov_cd, path, wrk_div, index_nm, st_dtm, end_dtm):\n",
    "    con, cur = mysql_con()\n",
    "\n",
    "    sql = \"\"\"\n",
    "        INSERT INTO ABKL_NEWSML_SUCCESS\n",
    "        VALUES (%s,%s,%s,%s,%s,%s,%s)\n",
    "    \"\"\"\n",
    "\n",
    "    cur.execute(sql, (news_id, prov_cd, path, wrk_div, index_nm, st_dtm, end_dtm))\n",
    "    con.commit()\n",
    "    con.close"
   ]
  },
  {
   "cell_type": "code",
   "execution_count": null,
   "metadata": {},
   "outputs": [],
   "source": [
    "def error_log(news_id, prov_cd, path, st_dtm, err_cd, err_cnts):\n",
    "    con, cur = mysql_con()\n",
    "\n",
    "    sql = \"\"\"\n",
    "        INSERT INTO ABKL_NEWSML_ERROR\n",
    "        VALUES (%s,%s,%s,%s,%s,%s,%s)\n",
    "    \"\"\"\n",
    "\n",
    "    cur.execute(sql, (news_id, prov_cd, path, st_dtm, err_cd, err_cnts))\n",
    "    con.commit()\n",
    "    con.close"
   ]
  },
  {
   "cell_type": "code",
   "execution_count": null,
   "metadata": {},
   "outputs": [],
   "source": [
    "from datetime import datetime as dt\n",
    "\n",
    "end_dtm = dt.now()\n",
    "print(str(end_dtm).replace(\"-\",\"\")[:8])"
   ]
  },
  {
   "cell_type": "code",
   "execution_count": 2,
   "metadata": {},
   "outputs": [
    {
     "name": "stdout",
     "output_type": "stream",
     "text": [
      "1\n"
     ]
    }
   ],
   "source": [
    "con, cur = mysql_con()\n",
    "sql = \"\"\"\n",
    "    SELECT COUNT(1)\n",
    "    FROM ABKL_PROVIDER_CD\n",
    "    WHERE PROVIDER_CD = %s\n",
    "\"\"\"\n",
    "cur.execute(sql, ('01400701'))\n",
    "rows = cur.fetchall()\n",
    "prov_cnt = rows[0][0]\n",
    "if prov_cnt == 0:\n",
    "    sql2 = \"\"\"\n",
    "    INSERT INTO ABKL_PROVIDER_CD\n",
    "    (PROVIDER_CD)\n",
    "    VALUES(%s)\n",
    "    \"\"\"\n",
    "    \n",
    "    cur.execute(sql, '01400701')\n",
    "    cur.commit()\n",
    "con.close()\n"
   ]
  }
 ],
 "metadata": {
  "kernelspec": {
   "display_name": "Python 3.9.13 ('base')",
   "language": "python",
   "name": "python3"
  },
  "language_info": {
   "codemirror_mode": {
    "name": "ipython",
    "version": 3
   },
   "file_extension": ".py",
   "mimetype": "text/x-python",
   "name": "python",
   "nbconvert_exporter": "python",
   "pygments_lexer": "ipython3",
   "version": "3.9.13"
  },
  "orig_nbformat": 4,
  "vscode": {
   "interpreter": {
    "hash": "f1a4a2f3c51900e879c65470871c76860eabd5596e5067eeaa31aed8adcbad33"
   }
  }
 },
 "nbformat": 4,
 "nbformat_minor": 2
}
