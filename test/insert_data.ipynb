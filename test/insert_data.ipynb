{
 "cells": [
  {
   "cell_type": "code",
   "execution_count": null,
   "metadata": {},
   "outputs": [],
   "source": [
    "import torch, gc\n",
    "gc.collect()\n",
    "torch.cuda.empty_cache()"
   ]
  },
  {
   "cell_type": "code",
   "execution_count": null,
   "metadata": {},
   "outputs": [],
   "source": [
    "import pymysql\n",
    "from elasticsearch import Elasticsearch\n",
    "import sys\n",
    "sys.path.insert(0, '../')\n",
    "import auth_prop\n",
    "\n",
    "mysql_auth = auth_prop.mysql\n",
    "# MySQL Connection 연결\n",
    "con = pymysql.connect(host=mysql_auth['host'], user=mysql_auth['user'], password=mysql_auth['passwd']\n",
    "    ,db=mysql_auth['db'], charset=mysql_auth['charset'])\n",
    "\n",
    "# Connection 으로부터 Cursor 생성\n",
    "cur = con.cursor()\n",
    "\n",
    "# SQL문 실행 및 Fetch\n",
    "sql = \"\"\"SELECT NEWSITEMID \n",
    "FROM ABKL_NEWS_SUBJ_REFINE_1 ansr\"\"\"\n",
    "cur.execute(sql)\n",
    "\n",
    "# 데이타 Fetch\n",
    "rows = cur.fetchall()\n",
    "# 분류된 newsid 배열\n",
    "id_arr = []\n",
    "for id in rows:\n",
    "    id_arr.append(id[0])\n",
    "\n",
    "print(len(id_arr))\n",
    "\n",
    "# ES 연결\n",
    "es = Elasticsearch('http://localhost:9199')\n",
    "\n",
    "# news_conts 담을 배열\n",
    "conts_arr = []"
   ]
  },
  {
   "cell_type": "code",
   "execution_count": null,
   "metadata": {},
   "outputs": [],
   "source": [
    "print(id_arr[46452])\n",
    "id = id_arr[46452]\n",
    "\n",
    "year = id.split(\".\")[1][:4]\n",
    "index = 'kpf_bigkindslab_v1.1_'+year\n",
    "body = {\n",
    "    \"_source\": [\"NewsItem.NewsComponent.NewsComponent.ContentItem.DataContent\"],\n",
    "    \"query\": {\n",
    "        \"match\": {\n",
    "            \"_id\": id\n",
    "        }\n",
    "    }\n",
    "}\n",
    "res = es.search(index=index, body=body)\n",
    "print(res)\n",
    "\n",
    "conts = res['hits']['hits'][0]\n",
    "# ['_source']['NewsItem']['NewsComponent']['NewsComponent'][0]['ContentItem']['DataContent'].replace(\"&quot;\",\"\\\"\").replace(\"&apos;\",\"'\")\n",
    "print(conts)"
   ]
  },
  {
   "cell_type": "code",
   "execution_count": null,
   "metadata": {},
   "outputs": [],
   "source": [
    "# 조회할 es 정보\n",
    "for idx, id in enumerate(id_arr):\n",
    "    if idx!=0 and idx%100==0:\n",
    "        print(idx)\n",
    "        # DB에 학습데이터 insert\n",
    "        for i,conts in enumerate(conts_arr):\n",
    "            sql = \"\"\"INSERT INTO ABKL_NEWS_SUBJ_LEARN_DATA \n",
    "                (NEWSITEMID, NEWS_CNTS, NEWS_BIG_SUBJ_CD, NEWS_SML_SUBJ_CD, NEWS_BIG_SUBJ_NM, NEWS_SML_SUBJ_NM)\n",
    "                SELECT ansr.NEWSITEMID , %s AS NEWS_CNTS, ansr.NEWS_BIG_SUBJ_CD , ansr.NEWS_SML_SUBJ_CD , ansc.NEWS_BIG_SUBJ_NM , ansc.NEWS_SML_SUBJ_NM \n",
    "                FROM ABKL_NEWS_SUBJ_REFINE_1 ansr \n",
    "                    LEFT OUTER JOIN ABKL_NEWS_SUBJ_CD ansc ON ansr.NEWS_SML_SUBJ_CD = ansc.NEWS_SML_SUBJ_CD \n",
    "                WHERE NEWSITEMID = %s\n",
    "                \"\"\"\n",
    "            cur.execute(sql, (conts, id_arr[idx-100+i]))\n",
    "            con.commit()\n",
    "            conts_arr = []\n",
    "    \n",
    "    year = id.split(\".\")[1][:4]\n",
    "    index = 'kpf_bigkindslab_v1.1_'+year\n",
    "    body = {\n",
    "        \"_source\": [\"NewsItem.NewsComponent.NewsComponent.ContentItem.DataContent\"],\n",
    "        \"query\": {\n",
    "            \"match\": {\n",
    "                \"_id\": id\n",
    "            }\n",
    "        }\n",
    "    }\n",
    "\n",
    "    res = es.search(index=index, body=body)\n",
    "    conts = res['hits']['hits'][0]['_source']['NewsItem']['NewsComponent']['NewsComponent'][0]['ContentItem']['DataContent'].replace(\"&quot;\",\"\\\"\").replace(\"&apos;\",\"'\")\n",
    "    conts_arr.append(conts)\n",
    "\n",
    "# DB에 학습데이터 insert\n",
    "# for i in range(len(conts_arr)):\n",
    "#     sql = \"\"\"INSERT INTO ABKL_NEWS_SUBJ_LEARN_DATA \n",
    "#         (NEWSITEMID, NEWS_CNTS, NEWS_BIG_SUBJ_CD, NEWS_SML_SUBJ_CD, NEWS_BIG_SUBJ_NM, NEWS_SML_SUBJ_NM)\n",
    "#         SELECT ansr.NEWSITEMID , %s AS NEWS_CNTS, ansr.NEWS_BIG_SUBJ_CD , ansr.NEWS_SML_SUBJ_CD , ansc.NEWS_BIG_SUBJ_NM , ansc.NEWS_SML_SUBJ_NM \n",
    "#         FROM ABKL_NEWS_SUBJ_REFINE_1 ansr \n",
    "#             LEFT OUTER JOIN ABKL_NEWS_SUBJ_CD ansc ON ansr.NEWS_SML_SUBJ_CD = ansc.NEWS_SML_SUBJ_CD \n",
    "#         WHERE NEWSITEMID = %s\n",
    "#         \"\"\"\n",
    "#     cur.execute(sql, (conts_arr[i], id_arr[i]))\n",
    "#     con.commit()"
   ]
  },
  {
   "cell_type": "code",
   "execution_count": null,
   "metadata": {},
   "outputs": [],
   "source": [
    "# DB connection 종료\n",
    "con.close"
   ]
  }
 ],
 "metadata": {
  "kernelspec": {
   "display_name": "Python 3.9.13 ('base')",
   "language": "python",
   "name": "python3"
  },
  "language_info": {
   "codemirror_mode": {
    "name": "ipython",
    "version": 3
   },
   "file_extension": ".py",
   "mimetype": "text/x-python",
   "name": "python",
   "nbconvert_exporter": "python",
   "pygments_lexer": "ipython3",
   "version": "3.9.13"
  },
  "orig_nbformat": 4,
  "vscode": {
   "interpreter": {
    "hash": "f1a4a2f3c51900e879c65470871c76860eabd5596e5067eeaa31aed8adcbad33"
   }
  }
 },
 "nbformat": 4,
 "nbformat_minor": 2
}
