{
 "cells": [
  {
   "cell_type": "code",
   "execution_count": null,
   "metadata": {},
   "outputs": [],
   "source": [
    "# 실행 시간 기준 00:15\n",
    "# 날짜 검색 기준 전날 00:00 ~ 24:00\n",
    "import datetime\n",
    "\n",
    "now = datetime.datetime.now()\n",
    "nowDate = now.strftime('%Y-%m-%d')\n",
    "print(nowDate)\n",
    "\n",
    "from datetime import date, timedelta\n",
    "\n",
    "today = date.today()\n",
    "yesterday = date.today() - timedelta(2)\n",
    "\n",
    "print(today.strftime('%Y-%m-%d'))\n",
    "print(yesterday.strftime('%Y-%m-%d'))\n"
   ]
  },
  {
   "cell_type": "code",
   "execution_count": null,
   "metadata": {},
   "outputs": [],
   "source": [
    "# 모든 파일 scan 하여 file_data_arr에 담아두기 dict형태\n",
    "import glob\n",
    "\n",
    "file_arr = glob.glob('../data/newsml/*/*/*/*/*.xml')\n",
    "file_dict_list = []\n",
    "for file in file_arr :\n",
    "    file_dict = dict()\n",
    "    file_dict['xml_path'] = file\n",
    "    file_dict['NewsItemId'] = file.split('\\\\')[5].replace(\".xml\",\"\")\n",
    "    file_dict_list.append(file_dict)\n",
    "\n",
    "print(len(file_dict_list))"
   ]
  },
  {
   "cell_type": "code",
   "execution_count": null,
   "metadata": {},
   "outputs": [],
   "source": [
    "print(file_arr)\n",
    "\n",
    "import os\n",
    "import time\n",
    "\n",
    "for file in file_arr:\n",
    "    print(time.ctime(os.path.getmtime(file)))"
   ]
  },
  {
   "cell_type": "code",
   "execution_count": null,
   "metadata": {},
   "outputs": [],
   "source": [
    "# log DB에서 불러오기\n",
    "\n",
    "import pymysql\n",
    "from elasticsearch import Elasticsearch\n",
    "import sys\n",
    "sys.path.insert(0, '../')\n",
    "import auth_prop\n",
    "\n",
    "mysql_auth = auth_prop.mysql\n",
    "# MySQL Connection 연결\n",
    "con = pymysql.connect(host=mysql_auth['host'], user=mysql_auth['user'], password=mysql_auth['passwd']\n",
    "    ,db=mysql_auth['db'], charset=mysql_auth['charset']) # 한글처리 (charset = 'utf8')\n",
    "\n",
    "# Connection 으로부터 Cursor 생성\n",
    "cur = con.cursor()\n",
    "\n",
    "# SQL문 실행 및 Fetch\n",
    "sql = \"\"\"\n",
    "    SELECT NEWSITEMID\n",
    "    FROM tb_batch_log \n",
    "    WHERE date(batch_date) BETWEEN %s AND %s\n",
    "        AND status_cd = 'FAIL'\n",
    "\"\"\"\n",
    "cur.execute(sql, (str(yesterday), str(yesterday)))\n",
    "\n",
    "# 데이타 Fetch\n",
    "rows = cur.fetchall()\n",
    "\n",
    "# 전날의 es insert 실패 아이디 목록\n",
    "fail_id_list = []\n",
    "\n",
    "for row in rows:\n",
    "    fail_id_list.append(row[0])\n",
    "\n",
    "print(fail_id_list)"
   ]
  },
  {
   "cell_type": "code",
   "execution_count": null,
   "metadata": {},
   "outputs": [],
   "source": [
    "# log DB에서 에러 발생한 NewsItemId xml읽고 추가\n",
    "for fail_id in fail_id_list:\n",
    "    for file_dict in file_dict_list:\n",
    "        if fail_id == file_dict['NewsItemId']:\n",
    "            add_doc(file_dict['xml_path'])"
   ]
  },
  {
   "cell_type": "code",
   "execution_count": null,
   "metadata": {},
   "outputs": [],
   "source": [
    "# es에서 불러오기\n",
    "from elasticsearch import Elasticsearch\n",
    "\n",
    "es = Elasticsearch('http://localhost:9199')\n",
    "index = 'kpf_bigkindslab_v1.1_'+str(nowDate)[:4]\n",
    "\n",
    "body = {\n",
    "    \"sort\":[{\"_id\":{\"order\":\"asc\"}}],\n",
    "    \"size\":10000,\n",
    "    \"_source\":\"_id\",\n",
    "    \"query\":{\n",
    "        \"range\":{\n",
    "            \"NewsItem.Identification.NewsIdentifier.DateId\": {\n",
    "                \"gte\": str(nowDate).replace(\"-\",\"\"),\n",
    "                \"lte\": str(nowDate).replace(\"-\",\"\")\n",
    "            }\n",
    "        }\n",
    "    }\n",
    "}\n",
    "\n",
    "es_results = es.search(index=\"kpf_bigkindslab_v1.1_2022\", body=body) # 향후 인덱스명 위에 만든 인덱스로 교체\n",
    "\n",
    "es_id_list = []\n",
    "\n",
    "for result in es_results['hits']['hits']:\n",
    "    es_id_list.append(result['_id'])\n",
    "\n",
    "# print(es_id_list)\n"
   ]
  },
  {
   "cell_type": "code",
   "execution_count": null,
   "metadata": {},
   "outputs": [],
   "source": [
    "es.scroll(index = \"kpf_bigkindslab_v1.1_2022\")"
   ]
  },
  {
   "cell_type": "code",
   "execution_count": null,
   "metadata": {},
   "outputs": [],
   "source": [
    "# NewsItemId 값 비교 (파일 scan, es)\n",
    "# 파일 scan에 있지만 es에 등록되지 않은 NewsItemId 찾아 xml 읽어낸 후 es에 추가\n",
    "\n",
    "for file_dict in file_dict_list:\n",
    "    flag = True\n",
    "    for es_id in es_id_list:\n",
    "        if file_dict['NewsItemId'] == es_id:\n",
    "            flag = False\n",
    "\n",
    "    if flag:\n",
    "        add_doc(file_dict['xml_path'])"
   ]
  },
  {
   "cell_type": "code",
   "execution_count": null,
   "metadata": {},
   "outputs": [],
   "source": [
    "# es에 추가하는 def\n",
    "from elasticsearch import Elasticsearch\n",
    "from newsml_to_json import make_json\n",
    "\n",
    "es = Elasticsearch('http://localhost:9199')\n",
    "\n",
    "mapping = {\n",
    "    \"settings\" : {\n",
    "        \"number_of_shards\": 6,\n",
    "        \"number_of_replicas\": 1\n",
    "    }\n",
    "}\n",
    "\n",
    "def add_doc(xml_path):\n",
    "    # xml -> json 변환\n",
    "    json_dict = make_json(xml_path)\n",
    "    print(json_dict)\n",
    "    index = \"kpf_bigkindslab_v1.1_\" + json_dict['NewsEnvelope']['DateAndTime'][:6]\n",
    "    news_id = json_dict['NewsItem']['Identification']['NewsIdentifier']['NewsItemId']\n",
    "    print(news_id)\n",
    "    # index가 존재하는 지 확인\n",
    "    # index 없을 경우 index 생성 후 doc 추가\n",
    "    if es.indices.exists(index=index)==False:\n",
    "        es.indices.create(index=index, body=mapping)\n",
    "\n",
    "    result = es.index(index=index, doc_type=\"_doc\", body=json_dict, id='test') \n",
    "\n",
    "add_doc('../data/01100201.20211111000455001.xml')"
   ]
  }
 ],
 "metadata": {
  "kernelspec": {
   "display_name": "Python 3.9.13 ('base')",
   "language": "python",
   "name": "python3"
  },
  "language_info": {
   "codemirror_mode": {
    "name": "ipython",
    "version": 3
   },
   "file_extension": ".py",
   "mimetype": "text/x-python",
   "name": "python",
   "nbconvert_exporter": "python",
   "pygments_lexer": "ipython3",
   "version": "3.9.13"
  },
  "orig_nbformat": 4,
  "vscode": {
   "interpreter": {
    "hash": "f1a4a2f3c51900e879c65470871c76860eabd5596e5067eeaa31aed8adcbad33"
   }
  }
 },
 "nbformat": 4,
 "nbformat_minor": 2
}
