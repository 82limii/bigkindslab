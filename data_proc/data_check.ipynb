{
 "cells": [
  {
   "cell_type": "code",
   "execution_count": null,
   "id": "5ba07fd4",
   "metadata": {},
   "outputs": [],
   "source": [
    "import json\n",
    "import numpy as np \n",
    "import pandas as pd\n",
    "\n",
    "with open(f'train.jsonl', 'r', encoding='UTF-8') as json_file:\n",
    "            train_json_list = list(json_file)\n",
    "        \n",
    "trains = []\n",
    "for json_str in train_json_list:\n",
    "    line = json.loads(json_str)\n",
    "    trains.append(line)\n",
    "    \n",
    "df = pd.DataFrame(trains)\n",
    "display(df)"
   ]
  },
  {
   "cell_type": "code",
   "execution_count": null,
   "id": "e64ea09c",
   "metadata": {},
   "outputs": [],
   "source": [
    "for idx,item in enumerate(trains):\n",
    "    if idx >10:\n",
    "        break\n",
    "    print(item)"
   ]
  }
 ],
 "metadata": {
  "kernelspec": {
   "display_name": "Python 3.9.13 ('base')",
   "language": "python",
   "name": "python3"
  },
  "language_info": {
   "codemirror_mode": {
    "name": "ipython",
    "version": 3
   },
   "file_extension": ".py",
   "mimetype": "text/x-python",
   "name": "python",
   "nbconvert_exporter": "python",
   "pygments_lexer": "ipython3",
   "version": "3.9.13"
  },
  "vscode": {
   "interpreter": {
    "hash": "f1a4a2f3c51900e879c65470871c76860eabd5596e5067eeaa31aed8adcbad33"
   }
  }
 },
 "nbformat": 4,
 "nbformat_minor": 5
}
