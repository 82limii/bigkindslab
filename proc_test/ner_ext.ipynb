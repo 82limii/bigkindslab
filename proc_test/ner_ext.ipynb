{
 "cells": [
  {
   "cell_type": "code",
   "execution_count": 5,
   "metadata": {
    "collapsed": true
   },
   "outputs": [
    {
     "name": "stdout",
     "output_type": "stream",
     "text": [
      "(('08200101.20180102210359004', '<![CDATA[【앵커】 \\n올해 6월에는 지구촌 60억 축구팬의 대축제, &apos;2018 러시아월드컵&apos;이 열립니다. \\n천신만고 끝에 본선에 오른 우리 대표팀은 과연 어떤 승부수를 준비하고 있을까요? \\n갈태웅 기자입니다. \\n【기자】 \\n시종일관 졸전이었던 러시아월드컵 최종예선. \\n그리고 지난달, 동아시안컵 일본전 4대 1 쾌승. \\n지난해 축구대표팀은 그야말로 롤러코스터를 탔습니다. \\n올해 월드컵 본선에 대한 우려가 어느 때보다 클 수밖에 없습니다. \\n대진운도 최악입니다. \\n브라질월드컵 우승팀 독일과 북중미 강호 멕시코. \\n여기에 &apos;아주리 군단&apos; 이탈리아를 60년 만에 본선에서 끌어내린 스웨덴이 가세했습니다. \\n[기성용/대표팀 미드필더 : 우리보다 약팀은 없고, 일단 우리가 항상 제일 낮은 자세로 임해야 한다고 생각하고, 지금부터가 이제 정말 저희들이 월드컵을 준비하는데 있어서 첫 시작이라고.] \\n일단 타겟은 스웨덴입니다. \\n스웨덴을 무조건 잡고, 멕시코와는 최소 무승부 이상을 이끌어내야 합니다. \\n여기에 독일이 3승을 거둬준다면, 조2위를 바라볼 수 있습니다. \\n신태용 감독도 지난 연말부터 유럽을 돌고 있습니다. \\n에이스 손흥민은 물론 그간 대표팀에서 멀어져 있었던 석현준 등을 중점적으로 점검하고 있습니다. \\n[신태용/대표팀 감독 : 스웨덴하고 비록 우리가 실력 면에서 좀 질 수 있겠지만, 그래도 &apos;조직력이나 이런 걸 잘 다지면 한 번 부딪칠만하다&apos; 그렇게 생각하고 있습니다.] \\n이달 중순과 3월에는 유럽 전지훈련도 한 뒤 5월부터는 조기소집에 들어갈 방침입니다. \\n&apos;F조 최하위&apos;로 지목된 대표팀, 전 세계를 경악시킬 멋진 반전을 꿈꾸고 있습니다. \\nOBS뉴스 갈태웅입니다. \\n&amp;lt;영상편집: 정재한&amp;gt;&amp;lt;갈태웅(tukal@obs.co.kr)&amp;gt;]]>', '20180102', '08200101', datetime.datetime(2023, 1, 9, 16, 46, 55)),)\n"
     ]
    }
   ],
   "source": [
    "import sys\n",
    "sys.path.insert(0, '../')\n",
    "import auth_prop\n",
    "import pymysql\n",
    "from datetime import datetime\n",
    "from python_api.ner4_module import ner_predict\n",
    "\n",
    "mysql_auth = auth_prop.mysql\n",
    "\n",
    "# MySQL Connection 연결\n",
    "con = pymysql.connect(host=mysql_auth['host'], user=mysql_auth['user'], password=mysql_auth['passwd']\n",
    "                      , db=mysql_auth['db'], charset=mysql_auth['charset'], port=mysql_auth['port'])\n",
    "\n",
    "# Connection 으로부터 Cursor 생성\n",
    "cur = con.cursor()\n",
    "\n",
    "# SQL문 실행 및 Fetch\n",
    "# sql = \"\"\"SELECT NEWSITEMID , NEWS_CNTS\n",
    "# FROM ABKL_NEWS_MST anm\n",
    "# WHERE DATE_FORMAT(REGIST_DT, '%%Y-%%m-%%d') = DATE_FORMAT(%s, '%%Y-%%m-%%d')\n",
    "#     AND NEWS_CNTS != '%%{[contents][0]}'\n",
    "# ORDER BY REGIST_DT\n",
    "# LIMIT 10\n",
    "# \"\"\"\n",
    "sql = \"\"\"SELECT *\n",
    "FROM ABKL_NEWS_MST anm\n",
    "WHERE NEWSITEMID = '08200101.20180102210359004'\"\"\"\n",
    "cur.execute(sql)\n",
    "# cur.execute(sql, \"2023-01-09\")\n",
    "# cur.execute(sql, str(datetime.today())[:10])\n",
    "\n",
    "# 데이타 Fetch\n",
    "rows = cur.fetchall()\n",
    "print(rows)\n"
   ]
  },
  {
   "cell_type": "code",
   "execution_count": 9,
   "outputs": [
    {
     "name": "stdout",
     "output_type": "stream",
     "text": [
      "[{'word': '올해', 'label': 'DT_YEAR', 'desc': '년'}, {'word': '6월', 'label': 'DT_MONTH', 'desc': '달'}, {'word': '60억', 'label': 'QT_PRICE', 'desc': '금액'}, {'word': '축구', 'label': 'CV_SPORTS', 'desc': '스포츠, 레포츠, 레저'}, {'word': '2018', 'label': 'DT_YEAR', 'desc': '년'}, {'word': '러시아월드컵', 'label': 'EV_SPORTS', 'desc': '스포츠, 레저행사'}, {'word': '갈태웅', 'label': 'PS_NAME', 'desc': '인물'}, {'word': '기자', 'label': 'CV_OCCUPATION', 'desc': '직업'}, {'word': '기자', 'label': 'CV_OCCUPATION', 'desc': '직업'}, {'word': '러시아월드컵', 'label': 'EV_SPORTS', 'desc': '스포츠, 레저행사'}, {'word': '지난달', 'label': 'DT_MONTH', 'desc': '달'}, {'word': '동아시안컵', 'label': 'EV_SPORTS', 'desc': '스포츠, 레저행사'}, {'word': '일본전', 'label': 'EV_SPORTS', 'desc': '스포츠, 레저행사'}, {'word': '4대 1', 'label': 'QT_SPORTS', 'desc': '스포츠수량'}, {'word': '지난해', 'label': 'DT_YEAR', 'desc': '년'}, {'word': '축구대표팀', 'label': 'OGG_SPORTS', 'desc': '스포츠'}, {'word': '올해', 'label': 'DT_YEAR', 'desc': '년'}, {'word': '월드컵', 'label': 'EV_SPORTS', 'desc': '스포츠, 레저행사'}, {'word': '브라질월드컵', 'label': 'EV_SPORTS', 'desc': '스포츠, 레저행사'}, {'word': '독일', 'label': 'LCP_COUNTRY', 'desc': '국가'}, {'word': '북중미', 'label': 'LCG_CONTINENT', 'desc': '대륙'}, {'word': '멕시코', 'label': 'LCP_COUNTRY', 'desc': '국가'}, {'word': '이탈리아', 'label': 'LCP_COUNTRY', 'desc': '국가'}, {'word': '60년', 'label': 'DT_DURATION', 'desc': '기간'}, {'word': '스웨덴', 'label': 'LCP_COUNTRY', 'desc': '국가'}, {'word': '기성용', 'label': 'PS_NAME', 'desc': '인물'}, {'word': '대표팀', 'label': 'OGG_SPORTS', 'desc': '스포츠'}, {'word': '월드컵', 'label': 'EV_SPORTS', 'desc': '스포츠, 레저행사'}, {'word': '스웨덴', 'label': 'LCP_COUNTRY', 'desc': '국가'}, {'word': '스웨덴', 'label': 'LCP_COUNTRY', 'desc': '국가'}, {'word': '멕시코', 'label': 'LCP_COUNTRY', 'desc': '국가'}, {'word': '독일', 'label': 'LCP_COUNTRY', 'desc': '국가'}, {'word': '3승', 'label': 'QT_SPORTS', 'desc': '스포츠수량'}, {'word': '조', 'label': 'QT_ORDER', 'desc': '1'}, {'word': '2위', 'label': 'QT_ORDER', 'desc': '순서'}, {'word': '신태용', 'label': 'PS_NAME', 'desc': '인물'}, {'word': '감독', 'label': 'CV_POSITION', 'desc': '직위, 직책'}, {'word': '연말부터', 'label': 'DT_OTHERS', 'desc': '기타'}, {'word': '유럽', 'label': 'LCG_CONTINENT', 'desc': '대륙'}, {'word': '손흥민', 'label': 'PS_NAME', 'desc': '인물'}, {'word': '대표팀', 'label': 'OGG_SPORTS', 'desc': '스포츠'}, {'word': '석현준', 'label': 'PS_NAME', 'desc': '인물'}, {'word': '신태용', 'label': 'PS_NAME', 'desc': '인물'}, {'word': '대표팀', 'label': 'OGG_SPORTS', 'desc': '스포츠'}, {'word': '감독', 'label': 'CV_POSITION', 'desc': '직위, 직책'}, {'word': '스웨덴', 'label': 'LCP_COUNTRY', 'desc': '국가'}, {'word': '이달', 'label': 'DT_MONTH', 'desc': '달'}, {'word': '중순3월', 'label': 'DT_MONTH', 'desc': '달'}, {'word': '유럽', 'label': 'LCG_CONTINENT', 'desc': '대륙'}, {'word': '5월부터', 'label': 'DT_OTHERS', 'desc': '기타'}, {'word': 'OBS뉴스', 'label': 'OGG_MEDIA', 'desc': '미디어 방송'}, {'word': '갈태웅', 'label': 'PS_NAME', 'desc': '인물'}, {'word': '정재한', 'label': 'PS_NAME', 'desc': '인물'}, {'word': '갈태웅', 'label': 'PS_NAME', 'desc': '인물'}, {'word': 'tukal@obs.co.kr', 'label': 'PS_NAME', 'desc': '인물'}]\n"
     ]
    }
   ],
   "source": [
    "text = rows[0][1].replace(\"<![CDATA[\",\"\").replace(\"]]>\",\"\").replace(\"&apos;\",\"\\'\").replace(\"&quot;\",\"\\\"\")\n",
    "res = ner_predict(text)\n",
    "print(res)"
   ],
   "metadata": {
    "collapsed": false
   }
  },
  {
   "cell_type": "code",
   "execution_count": 2,
   "outputs": [
    {
     "name": "stdout",
     "output_type": "stream",
     "text": [
      "[[{'word': '문재인', 'label': 'PS_NAME', 'desc': '인물'}, {'word': '대통령', 'label': 'CV_POSITION', 'desc': '직위, 직책'}, {'word': '피부', 'label': 'AM_PART', 'desc': '부분명칭'}, {'word': '문', 'label': 'PS_NAME', 'desc': '인물'}, {'word': '대통령', 'label': 'CV_POSITION', 'desc': '직위, 직책'}, {'word': '무술년', 'label': 'DT_YEAR', 'desc': '년'}, {'word': '새해', 'label': 'DT_YEAR', 'desc': '년'}, {'word': '첫날', 'label': 'DT_DAY', 'desc': '날짜 절기'}, {'word': '2년차', 'label': 'QT_ORDER', 'desc': '순서'}, {'word': '오늘', 'label': 'DT_DAY', 'desc': '날짜 절기'}, {'word': '2018년', 'label': 'DT_YEAR', 'desc': '년'}, {'word': '새해', 'label': 'DT_YEAR', 'desc': '년'}, {'word': '손', 'label': 'AM_PART', 'desc': '부분명칭'}, {'word': '문', 'label': 'PS_NAME', 'desc': '인물'}, {'word': '대통령', 'label': 'CV_POSITION', 'desc': '직위, 직책'}, {'word': '대한민국', 'label': 'LCP_COUNTRY', 'desc': '국가'}, {'word': '최한성', 'label': 'PS_NAME', 'desc': '인물'}, {'word': 'hsforyj', 'label': 'PS_NAME', 'desc': '인물'}, {'word': 'obs.co.kr', 'label': 'OGG_MEDIA', 'desc': '미디어 방송'}], [{'word': '북한', 'label': 'LCP_COUNTRY', 'desc': '국가'}, {'word': '김정은', 'label': 'PS_NAME', 'desc': '인물'}, {'word': '노동당', 'label': 'OGG_MILITARY', 'desc': '군사'}, {'word': '위원장', 'label': 'CV_POSITION', 'desc': '직위, 직책'}, {'word': '올해', 'label': 'DT_YEAR', 'desc': '년'}, {'word': '러시아', 'label': 'LCP_COUNTRY', 'desc': '국가'}, {'word': '중국', 'label': 'LCP_COUNTRY', 'desc': '국가'}, {'word': '조선중앙통신', 'label': 'OGG_MEDIA', 'desc': '미디어 방송'}, {'word': '어제', 'label': 'DT_DAY', 'desc': '날짜 절기'}, {'word': '김정은', 'label': 'PS_NAME', 'desc': '인물'}, {'word': '2018년', 'label': 'DT_YEAR', 'desc': '년'}, {'word': '새해', 'label': 'DT_YEAR', 'desc': '년'}, {'word': '라오스인민민주주의공화국', 'label': 'LCP_COUNTRY', 'desc': '국가'}, {'word': '주석', 'label': 'CV_POSITION', 'desc': '직위, 직책'}, {'word': '러시아', 'label': 'LCP_COUNTRY', 'desc': '국가'}, {'word': '연방', 'label': 'LCP_COUNTRY', 'desc': '국가'}, {'word': '대통령', 'label': 'CV_POSITION', 'desc': '직위, 직책'}, {'word': '중화인민공화국', 'label': 'LCP_COUNTRY', 'desc': '국가'}, {'word': '주석', 'label': 'CV_POSITION', 'desc': '직위, 직책'}, {'word': '파키스탄이슬람공화국', 'label': 'LCP_COUNTRY', 'desc': '국가'}, {'word': '대통령', 'label': 'CV_POSITION', 'desc': '직위, 직책'}, {'word': '2013년 12월', 'label': 'DT_DURATION', 'desc': '기간'}, {'word': '장성택', 'label': 'PS_NAME', 'desc': '인물'}, {'word': '북핵', 'label': 'LCP_COUNTRY', 'desc': '국가'}, {'word': '북중', 'label': 'LCP_COUNTRY', 'desc': '국가'}, {'word': '북러', 'label': 'LCP_COUNTRY', 'desc': '국가'}, {'word': '최한성', 'label': 'PS_NAME', 'desc': '인물'}, {'word': 'hsforyj', 'label': 'PS_NAME', 'desc': '인물'}, {'word': 'obs.co.kr', 'label': 'OGG_MEDIA', 'desc': '미디어 방송'}], [{'word': '도널드', 'label': 'PS_NAME', 'desc': '인물'}, {'word': '트럼프미국', 'label': 'LCP_COUNTRY', 'desc': '국가'}, {'word': '대통령', 'label': 'CV_POSITION', 'desc': '직위, 직책'}, {'word': '31일', 'label': 'DT_DAY', 'desc': '날짜 절기'}, {'word': '미', 'label': 'LCP_COUNTRY', 'desc': '국가'}, {'word': '트럼프', 'label': 'PS_NAME', 'desc': '인물'}, {'word': '대통령', 'label': 'CV_POSITION', 'desc': '직위, 직책'}, {'word': '이날', 'label': 'DT_DAY', 'desc': '날짜 절기'}, {'word': '트위터', 'label': 'TMI_SERVICE', 'desc': 'IT서비스용어'}, {'word': '민주당', 'label': 'OGG_POLITICS', 'desc': '정부 행정'}, {'word': '50%', 'label': 'QT_PERCENTAGE', 'desc': '비율'}, {'word': '다우존스', 'label': 'OGG_MEDIA', 'desc': '미디어 방송'}, {'word': '스탠더드앤드푸어스', 'label': 'OGG_ECONOMY', 'desc': '경제'}, {'word': '나스닥지수', 'label': 'OGG_ECONOMY', 'desc': '경제'}, {'word': '미', 'label': 'LCP_COUNTRY', 'desc': '국가'}, {'word': '3대', 'label': 'QT_COUNT', 'desc': '수량'}, {'word': '작년', 'label': 'DT_YEAR', 'desc': '년'}, {'word': '최한성', 'label': 'PS_NAME', 'desc': '인물'}, {'word': 'hsforyj', 'label': 'PS_NAME', 'desc': '인물'}, {'word': 'obs.co.kr', 'label': 'OGG_MEDIA', 'desc': '미디어 방송'}], [{'word': '마이클 멀린', 'label': 'PS_NAME', 'desc': '인물'}, {'word': '미국', 'label': 'LCP_COUNTRY', 'desc': '국가'}, {'word': '합참의장', 'label': 'CV_POSITION', 'desc': '직위, 직책'}, {'word': '31일', 'label': 'DT_DAY', 'desc': '날짜 절기'}, {'word': '북한', 'label': 'LCP_COUNTRY', 'desc': '국가'}, {'word': '멀린', 'label': 'PS_NAME', 'desc': '인물'}, {'word': '합참의장', 'label': 'CV_POSITION', 'desc': '직위, 직책'}, {'word': '이날', 'label': 'DT_DAY', 'desc': '날짜 절기'}, {'word': '미', 'label': 'LCP_COUNTRY', 'desc': '국가'}, {'word': 'ABC방송', 'label': 'OGG_MEDIA', 'desc': '미디어 방송'}, {'word': '&apos', 'label': 'AFA_VIDEO', 'desc': '영화'}, {'word': '디스 위크&apos', 'label': 'AFA_VIDEO', 'desc': '영화'}, {'word': '북한', 'label': 'LCP_COUNTRY', 'desc': '국가'}, {'word': '핵미사', 'label': 'AF_WEAPON', 'desc': '무기'}, {'word': '도널드', 'label': 'PS_NAME', 'desc': '인물'}, {'word': '트럼프', 'label': 'PS_NAME', 'desc': '인물'}, {'word': '대통령', 'label': 'CV_POSITION', 'desc': '직위, 직책'}, {'word': '미국', 'label': 'LCP_COUNTRY', 'desc': '국가'}, {'word': '최한성', 'label': 'PS_NAME', 'desc': '인물'}, {'word': 'hsforyj', 'label': 'PS_NAME', 'desc': '인물'}, {'word': 'obs.co.kr', 'label': 'OGG_MEDIA', 'desc': '미디어 방송'}], [{'word': '북한', 'label': 'LCP_COUNTRY', 'desc': '국가'}, {'word': '오늘', 'label': 'DT_DAY', 'desc': '날짜 절기'}, {'word': '0시', 'label': 'TI_HOUR', 'desc': '시각'}, {'word': '0시 30분', 'label': 'TI_OTHERS', 'desc': '기타'}, {'word': '무술년', 'label': 'DT_YEAR', 'desc': '년'}, {'word': '새해', 'label': 'DT_YEAR', 'desc': '년'}, {'word': '조선중앙TV', 'label': 'OGG_MEDIA', 'desc': '미디어 방송'}, {'word': '오늘', 'label': 'DT_DAY', 'desc': '날짜 절기'}, {'word': '평양', 'label': 'LCP_CAPITALCITY', 'desc': '수도'}, {'word': '대동강변', 'label': 'TM_DIRECTION', 'desc': '방향'}, {'word': '주체사상탑', 'label': 'AF_BUILDING', 'desc': '건물'}, {'word': '불꽃놀이', 'label': 'AFA_PERFORMANCE', 'desc': '춤, 무용'}, {'word': '대동강', 'label': 'LCG_RIVER', 'desc': '강, 호수'}, {'word': '김일성', 'label': 'PS_NAME', 'desc': '인물'}, {'word': '새해', 'label': 'DT_YEAR', 'desc': '년'}, {'word': '평양', 'label': 'LCP_CAPITALCITY', 'desc': '수도'}, {'word': '최한성', 'label': 'PS_NAME', 'desc': '인물'}, {'word': 'hsforyj', 'label': 'PS_NAME', 'desc': '인물'}, {'word': 'obs.co.kr', 'label': 'OGG_MEDIA', 'desc': '미디어 방송'}], [{'word': '제주', 'label': 'LCP_PROVINCE', 'desc': '도, 주'}, {'word': '추자도', 'label': 'LCG_ISLAND', 'desc': '섬'}, {'word': '1명', 'label': 'QT_MAN_COUNT', 'desc': '인원'}, {'word': '2명', 'label': 'QT_MAN_COUNT', 'desc': '인원'}, {'word': '어제', 'label': 'DT_DAY', 'desc': '날짜 절기'}, {'word': '오후 7시 18분쯤', 'label': 'TI_DURATION', 'desc': '기간'}, {'word': '제주시', 'label': 'LCP_CITY', 'desc': '도시'}, {'word': '추자도', 'label': 'LCP_COUNTY', 'desc': '군, 면, 동'}, {'word': '남쪽', 'label': 'TM_DIRECTION', 'desc': '방향'}, {'word': '15km', 'label': 'QT_LENGTH', 'desc': '길이'}, {'word': '전남', 'label': 'LCP_PROVINCE', 'desc': '도, 주'}, {'word': '여수', 'label': 'LCP_CITY', 'desc': '도시'}, {'word': '40t급', 'label': 'QT_WEIGHT', 'desc': '무게'}, {'word': '저인망어선', 'label': 'AF_TRANSPORT', 'desc': '교통수단, 놀이기구'}, {'word': '203현진호', 'label': 'AF_TRANSPORT', 'desc': '교통수단, 놀이기구'}, {'word': '제주해양경찰서', 'label': 'OGG_POLITICS', 'desc': '정부 행정'}, {'word': '8명', 'label': 'QT_MAN_COUNT', 'desc': '인원'}, {'word': '6명', 'label': 'QT_MAN_COUNT', 'desc': '인원'}, {'word': '4시간여', 'label': 'TI_DURATION', 'desc': '기간'}, {'word': '오후 11시 33분쯤', 'label': 'TI_DURATION', 'desc': '기간'}, {'word': '남동쪽', 'label': 'TM_DIRECTION', 'desc': '방향'}, {'word': '5.5km', 'label': 'QT_LENGTH', 'desc': '길이'}, {'word': '2명', 'label': 'QT_MAN_COUNT', 'desc': '인원'}, {'word': '최한성', 'label': 'PS_NAME', 'desc': '인물'}, {'word': 'hsforyj', 'label': 'PS_NAME', 'desc': '인물'}, {'word': 'obs.co.kr', 'label': 'OGG_MEDIA', 'desc': '미디어 방송'}], [{'word': '앵커', 'label': 'AFA_VIDEO', 'desc': '영화'}, {'word': '2018년', 'label': 'DT_YEAR', 'desc': '년'}, {'word': '새해', 'label': 'DT_YEAR', 'desc': '년'}, {'word': '무술년', 'label': 'DT_YEAR', 'desc': '년'}, {'word': '대한민국', 'label': 'LCP_COUNTRY', 'desc': '국가'}, {'word': '1호', 'label': 'QT_ORDER', 'desc': '순서'}, {'word': '최한성', 'label': 'PS_NAME', 'desc': '인물'}, {'word': '기자', 'label': 'CV_OCCUPATION', 'desc': '직업'}, {'word': '기자', 'label': 'CV_OCCUPATION', 'desc': '직업'}, {'word': '새해', 'label': 'DT_YEAR', 'desc': '년'}, {'word': '2.83kg', 'label': 'QT_WEIGHT', 'desc': '무게'}, {'word': '열달', 'label': 'DT_DURATION', 'desc': '기간'}, {'word': '엄마', 'label': 'CV_RELATION', 'desc': '가족관계'}, {'word': '박수진', 'label': 'PS_NAME', 'desc': '인물'}, {'word': '엄마', 'label': 'CV_RELATION', 'desc': '가족관계'}, {'word': '0시 12분', 'label': 'TI_DURATION', 'desc': '기간'}, {'word': '인천공항', 'label': 'LC_OTHERS', 'desc': '기타'}, {'word': '새해', 'label': 'DT_YEAR', 'desc': '년'}, {'word': '여객기', 'label': 'AF_TRANSPORT', 'desc': '교통수단, 놀이기구'}, {'word': '중국인', 'label': 'CV_TRIBE', 'desc': '민족, 종족'}, {'word': '후이천', 'label': 'PS_NAME', 'desc': '인물'}, {'word': '4번째', 'label': 'QT_ORDER', 'desc': '순서'}, {'word': '새해', 'label': 'DT_YEAR', 'desc': '년'}, {'word': '후이천', 'label': 'PS_NAME', 'desc': '인물'}, {'word': '중국인', 'label': 'CV_TRIBE', 'desc': '민족, 종족'}, {'word': '새해', 'label': 'DT_YEAR', 'desc': '년'}, {'word': '한국', 'label': 'LCP_COUNTRY', 'desc': '국가'}, {'word': '번째', 'label': 'QT_ORDER', 'desc': '순서'}, {'word': '새해', 'label': 'DT_YEAR', 'desc': '년'}, {'word': '어젯밤부터', 'label': 'DT_OTHERS', 'desc': '기타'}, {'word': '반도체', 'label': 'TMI_HW', 'desc': '하드웨어'}, {'word': 'LCD', 'label': 'TMI_HW', 'desc': '하드웨어'}, {'word': '90톤', 'label': 'QT_WEIGHT', 'desc': '무게'}, {'word': '비행기', 'label': 'AF_TRANSPORT', 'desc': '교통수단, 놀이기구'}, {'word': '오전', 'label': 'TI_DURATION', 'desc': '기간'}, {'word': '1시', 'label': 'TI_DURATION', 'desc': '기간'}, {'word': '5분중국', 'label': 'LCP_COUNTRY', 'desc': '국가'}, {'word': '상하이', 'label': 'LCP_CITY', 'desc': '도시'}, {'word': '김해영', 'label': 'PS_NAME', 'desc': '인물'}, {'word': '아시아나항공', 'label': 'OGG_ECONOMY', 'desc': '경제'}, {'word': '과장', 'label': 'CV_POSITION', 'desc': '직위, 직책'}, {'word': '2017년도', 'label': 'DT_YEAR', 'desc': '년'}, {'word': '대한민국', 'label': 'LCP_COUNTRY', 'desc': '국가'}, {'word': '1호', 'label': 'QT_ORDER', 'desc': '순서'}, {'word': '무술년', 'label': 'DT_YEAR', 'desc': '년'}, {'word': '해', 'label': 'LC_SPACE', 'desc': '천체'}, {'word': 'OBS뉴스', 'label': 'OGG_MEDIA', 'desc': '미디어 방송'}, {'word': '최한성', 'label': 'PS_NAME', 'desc': '인물'}, {'word': '유승환', 'label': 'PS_NAME', 'desc': '인물'}, {'word': '양규철', 'label': 'PS_NAME', 'desc': '인물'}, {'word': '최한성', 'label': 'PS_NAME', 'desc': '인물'}, {'word': 'hsforyj', 'label': 'PS_NAME', 'desc': '인물'}, {'word': 'o', 'label': 'OGG_MEDIA', 'desc': '미디어 방송'}], [{'word': '아베', 'label': 'PS_NAME', 'desc': '인물'}, {'word': '신조', 'label': 'PS_NAME', 'desc': '인물'}, {'word': '일본', 'label': 'LCP_COUNTRY', 'desc': '국가'}, {'word': '총리', 'label': 'CV_POSITION', 'desc': '직위, 직책'}, {'word': '작년', 'label': 'DT_OTHERS', 'desc': '기타'}, {'word': '10.22', 'label': 'DT_OTHERS', 'desc': '기타'}, {'word': '중의원', 'label': 'CV_POSITION', 'desc': '직위, 직책'}, {'word': '올해', 'label': 'DT_YEAR', 'desc': '년'}, {'word': '1년', 'label': 'DT_DURATION', 'desc': '기간'}, {'word': '2020년', 'label': 'DT_YEAR', 'desc': '년'}, {'word': '교도통신', 'label': 'OGG_MEDIA', 'desc': '미디어 방송'}, {'word': '아베', 'label': 'PS_NAME', 'desc': '인물'}, {'word': '총리', 'label': 'CV_POSITION', 'desc': '직위, 직책'}, {'word': '가을', 'label': 'DT_SEASON', 'desc': '계절'}, {'word': '자민당', 'label': 'OGG_POLITICS', 'desc': '정부 행정'}, {'word': '총재', 'label': 'CV_POSITION', 'desc': '직위, 직책'}, {'word': '3선', 'label': 'QT_COUNT', 'desc': '수량'}, {'word': '최한성', 'label': 'PS_NAME', 'desc': '인물'}, {'word': 'hsforyj', 'label': 'PS_NAME', 'desc': '인물'}, {'word': 'obs.co.kr', 'label': 'OGG_MEDIA', 'desc': '미디어 방송'}], [{'word': '독일', 'label': 'LCP_COUNTRY', 'desc': '국가'}, {'word': '33년간', 'label': 'DT_DURATION', 'desc': '기간'}, {'word': '31일', 'label': 'DT_DAY', 'desc': '날짜 절기'}, {'word': '독일', 'label': 'LCP_COUNTRY', 'desc': '국가'}, {'word': '도이체벨레에', 'label': 'OGG_ECONOMY', 'desc': '경제'}, {'word': '바이에른주', 'label': 'LCP_PROVINCE', 'desc': '도, 주'}, {'word': '그룬트레밍엔', 'label': 'LCP_CITY', 'desc': '도시'}, {'word': '1기', 'label': 'QT_ORDER', 'desc': '순서'}, {'word': '이날', 'label': 'DT_DAY', 'desc': '날짜 절기'}, {'word': '작년', 'label': 'DT_YEAR', 'desc': '년'}, {'word': '독일', 'label': 'LCP_COUNTRY', 'desc': '국가'}, {'word': '룬트레엔1기', 'label': 'QT_ORDER', 'desc': '순서'}, {'word': '7기', 'label': 'QT_ORDER', 'desc': '순서'}, {'word': '최한성', 'label': 'PS_NAME', 'desc': '인물'}, {'word': 'hsforyj', 'label': 'PS_NAME', 'desc': '인물'}, {'word': 'obs.co.kr', 'label': 'OGG_MEDIA', 'desc': '미디어 방송'}], [{'word': '기상캐스터', 'label': 'CV_OCCUPATION', 'desc': '직업'}, {'word': '무술년', 'label': 'DT_YEAR', 'desc': '년'}, {'word': '새해', 'label': 'DT_YEAR', 'desc': '년'}, {'word': '오늘', 'label': 'DT_DAY', 'desc': '날짜 절기'}, {'word': '영하 4.6도로', 'label': 'QT_TEMPERATURE', 'desc': '온도'}, {'word': '어제', 'label': 'DT_DAY', 'desc': '날짜 절기'}, {'word': '파주', 'label': 'LCP_CITY', 'desc': '도시'}, {'word': ' <9도나', 'label': 'QT_OTHERS', 'desc': '기타'}, {'word': '오전 7시 26분', 'label': 'TI_DURATION', 'desc': '기간'}, {'word': '독도', 'label': 'LCG_ISLAND', 'desc': '섬'}, {'word': '해', 'label': 'LC_SPACE', 'desc': '천체'}, {'word': '서울', 'label': 'LCP_CAPITALCITY', 'desc': '수도'}, {'word': '7시 47분', 'label': 'TI_OTHERS', 'desc': '기타'}, {'word': '무술년', 'label': 'DT_YEAR', 'desc': '년'}, {'word': '수도권', 'label': 'LC_OTHERS', 'desc': '기타'}, {'word': '양평', 'label': 'LCP_COUNTY', 'desc': '군, 면, 동'}, {'word': '두물머리', 'label': 'LC_OTHERS', 'desc': '기타'}, {'word': '파주', 'label': 'LCP_CITY', 'desc': '도시'}, {'word': '임진각', 'label': 'LC_OTHERS', 'desc': '기타'}, {'word': '남한산성', 'label': 'LC_OTHERS', 'desc': '기타'}, {'word': '새해', 'label': 'DT_YEAR', 'desc': '년'}, {'word': '오늘', 'label': 'DT_DAY', 'desc': '날짜 절기'}, {'word': '서울', 'label': 'LCP_CAPITALCITY', 'desc': '수도'}, {'word': ' <3도', 'label': 'QT_TEMPERATURE', 'desc': '온도'}, {'word': '인천', 'label': 'LCP_CITY', 'desc': '도시'}, {'word': ' <2도로', 'label': 'QT_TEMPERATURE', 'desc': '온도'}, {'word': '어제', 'label': 'DT_DAY', 'desc': '날짜 절기'}, {'word': '경기', 'label': 'LCP_PROVINCE', 'desc': '도, 주'}, {'word': '북부', 'label': 'TM_DIRECTION', 'desc': '방향'}, {'word': ' <2도', 'label': 'QT_OTHERS', 'desc': '기타'}, {'word': '경기', 'label': 'LCP_PROVINCE', 'desc': '도, 주'}, {'word': '동부', 'label': 'TM_DIRECTION', 'desc': '방향'}, {'word': '이천', 'label': 'LCP_CITY', 'desc': '도시'}, {'word': '4도여주', 'label': 'LCP_CITY', 'desc': '도시'}, {'word': '2도로', 'label': 'QT_OTHERS', 'desc': '기타'}, {'word': '오늘', 'label': 'DT_DAY', 'desc': '날짜 절기'}, {'word': '이번주', 'label': 'DT_DURATION', 'desc': '기간'}, {'word': '김효선', 'label': 'PS_NAME', 'desc': '인물'}]]\n"
     ]
    }
   ],
   "source": [
    "res_arr = []\n",
    "for row in rows:\n",
    "    # 기사 본문 전처리\n",
    "    text = row[1].replace(\"<![CDATA[\",\"\").replace(\"]]>\",\"\")\n",
    "    # 키워드 추출\n",
    "    res = ner_predict(text)\n",
    "    res_arr.append(res)\n",
    "print(res_arr)"
   ],
   "metadata": {
    "collapsed": false
   }
  },
  {
   "cell_type": "code",
   "execution_count": 3,
   "outputs": [],
   "source": [
    "sql = \"INSERT IGNORE INTO ABKL_NEWS_NER_RESULT(NEWSITEMID, NER_SEQ, NER_CD, EXT_WORD) VALUES(%s,%s,%s,%s)\"\n",
    "\n",
    "for i,row in enumerate(rows):\n",
    "    for idx, res in enumerate(res_arr[i]):\n",
    "        cur.execute(sql, (row[0], str(idx), res['label'], res['word']))\n",
    "    con.commit()\n",
    "cur.close()\n",
    "con.close()"
   ],
   "metadata": {
    "collapsed": false
   }
  }
 ],
 "metadata": {
  "kernelspec": {
   "display_name": "Python 3",
   "language": "python",
   "name": "python3"
  },
  "language_info": {
   "codemirror_mode": {
    "name": "ipython",
    "version": 2
   },
   "file_extension": ".py",
   "mimetype": "text/x-python",
   "name": "python",
   "nbconvert_exporter": "python",
   "pygments_lexer": "ipython2",
   "version": "2.7.6"
  }
 },
 "nbformat": 4,
 "nbformat_minor": 0
}
