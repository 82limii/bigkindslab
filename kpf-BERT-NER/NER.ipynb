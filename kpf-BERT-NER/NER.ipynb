{
 "cells": [
  {
   "cell_type": "code",
   "execution_count": null,
   "metadata": {},
   "outputs": [],
   "source": [
    "import predict"
   ]
  },
  {
   "cell_type": "code",
   "execution_count": 5,
   "metadata": {},
   "outputs": [
    {
     "name": "stdout",
     "output_type": "stream",
     "text": [
      "TEXT input\n",
      "지난해 김건희 여사의 박사 학위 논문 등에 대해 국민대가 연구부정행위 검증에 나섰는데요.\n",
      "이번엔 숙명여대가 김 여사의 석사학위 논문 표절 의혹을 검증하기 위한 본조사에 착수했습니다.\n",
      "숙대 민주동문회와 교수협의회는 그동안  대학 측에 표절 의혹을 조사하라고 촉구해왔는데요.\n",
      "학교 측은 민주 동문회에 지난 11월 '김 여사 논문에 대한 본조사를 실시할 예정'이라는 내용의 공문을 보냈다고 합니다.\n",
      "조사는 12월 중순쯤 시작됐다고 합니다.\n",
      " \n",
      "\n",
      "KOR-BERT-NER MODEL Loading...\n",
      "KOR-BERT-NER MODEL Loading Done\n",
      "KPF-BERT-NER MODEL Loading...\n",
      "KPF-BERT-NER MODEL Loading Done\n",
      "KPF-BERT TOKENIZER Loading...\n"
     ]
    },
    {
     "name": "stderr",
     "output_type": "stream",
     "text": [
      "c:\\Dev\\Projects\\POSWAVE\\Release\\kpf-BERT-NER\\predict.py:110: SyntaxWarning: \"is\" with a literal. Did you mean \"==\"?\n",
      "  if len(sys.argv) is 1:\n",
      "Traceback (most recent call last):\n",
      "  File \"c:\\Dev\\Projects\\POSWAVE\\Release\\kpf-BERT-NER\\venv\\lib\\site-packages\\huggingface_hub\\utils\\_errors.py\", line 239, in hf_raise_for_status\n",
      "    response.raise_for_status()\n",
      "  File \"c:\\Dev\\Projects\\POSWAVE\\Release\\kpf-BERT-NER\\venv\\lib\\site-packages\\requests\\models.py\", line 1021, in raise_for_status\n",
      "    raise HTTPError(http_error_msg, response=self)\n",
      "requests.exceptions.HTTPError: 401 Client Error: Unauthorized for url: https://huggingface.co/kpfbert/resolve/main/tokenizer_config.json\n",
      "\n",
      "The above exception was the direct cause of the following exception:\n",
      "\n",
      "Traceback (most recent call last):\n",
      "  File \"c:\\Dev\\Projects\\POSWAVE\\Release\\kpf-BERT-NER\\venv\\lib\\site-packages\\transformers\\utils\\hub.py\", line 409, in cached_file\n",
      "    resolved_file = hf_hub_download(\n",
      "  File \"c:\\Dev\\Projects\\POSWAVE\\Release\\kpf-BERT-NER\\venv\\lib\\site-packages\\huggingface_hub\\utils\\_validators.py\", line 124, in _inner_fn\n",
      "    return fn(*args, **kwargs)\n",
      "  File \"c:\\Dev\\Projects\\POSWAVE\\Release\\kpf-BERT-NER\\venv\\lib\\site-packages\\huggingface_hub\\file_download.py\", line 1067, in hf_hub_download\n",
      "    metadata = get_hf_file_metadata(\n",
      "  File \"c:\\Dev\\Projects\\POSWAVE\\Release\\kpf-BERT-NER\\venv\\lib\\site-packages\\huggingface_hub\\utils\\_validators.py\", line 124, in _inner_fn\n",
      "    return fn(*args, **kwargs)\n",
      "  File \"c:\\Dev\\Projects\\POSWAVE\\Release\\kpf-BERT-NER\\venv\\lib\\site-packages\\huggingface_hub\\file_download.py\", line 1376, in get_hf_file_metadata\n",
      "    hf_raise_for_status(r)\n",
      "  File \"c:\\Dev\\Projects\\POSWAVE\\Release\\kpf-BERT-NER\\venv\\lib\\site-packages\\huggingface_hub\\utils\\_errors.py\", line 268, in hf_raise_for_status\n",
      "    raise RepositoryNotFoundError(message, response) from e\n",
      "huggingface_hub.utils._errors.RepositoryNotFoundError: 401 Client Error. (Request ID: Root=1-63b53a33-25fe17b2153cd7d62734f71a)\n",
      "\n",
      "Repository Not Found for url: https://huggingface.co/kpfbert/resolve/main/tokenizer_config.json.\n",
      "Please make sure you specified the correct `repo_id` and `repo_type`.\n",
      "If the repo is private, make sure you are authenticated.\n",
      "Invalid username or password.\n",
      "\n",
      "During handling of the above exception, another exception occurred:\n",
      "\n",
      "Traceback (most recent call last):\n",
      "  File \"c:\\Dev\\Projects\\POSWAVE\\Release\\kpf-BERT-NER\\predict.py\", line 131, in <module>\n",
      "    tokenizer = AutoTokenizer.from_pretrained(\"kpfbert\")\n",
      "  File \"c:\\Dev\\Projects\\POSWAVE\\Release\\kpf-BERT-NER\\venv\\lib\\site-packages\\transformers\\models\\auto\\tokenization_auto.py\", line 582, in from_pretrained\n",
      "    tokenizer_config = get_tokenizer_config(pretrained_model_name_or_path, **kwargs)\n",
      "  File \"c:\\Dev\\Projects\\POSWAVE\\Release\\kpf-BERT-NER\\venv\\lib\\site-packages\\transformers\\models\\auto\\tokenization_auto.py\", line 433, in get_tokenizer_config\n",
      "    resolved_config_file = cached_file(\n",
      "  File \"c:\\Dev\\Projects\\POSWAVE\\Release\\kpf-BERT-NER\\venv\\lib\\site-packages\\transformers\\utils\\hub.py\", line 424, in cached_file\n",
      "    raise EnvironmentError(\n",
      "OSError: kpfbert is not a local folder and is not a valid model identifier listed on 'https://huggingface.co/models'\n",
      "If this is a private repository, make sure to pass a token having permission to this repo with `use_auth_token` or log in with `huggingface-cli login` and pass `use_auth_token=True`.\n"
     ]
    }
   ],
   "source": [
    "!python predict.py \"test.txt\""
   ]
  },
  {
   "cell_type": "code",
   "execution_count": 4,
   "metadata": {},
   "outputs": [
    {
     "name": "stderr",
     "output_type": "stream",
     "text": [
      "Traceback (most recent call last):\n",
      "  File \"c:\\Dev\\Projects\\POSWAVE\\Release\\kpf-BERT-NER\\venv\\lib\\site-packages\\huggingface_hub\\utils\\_errors.py\", line 239, in hf_raise_for_status\n",
      "    response.raise_for_status()\n",
      "  File \"c:\\Dev\\Projects\\POSWAVE\\Release\\kpf-BERT-NER\\venv\\lib\\site-packages\\requests\\models.py\", line 1021, in raise_for_status\n",
      "    raise HTTPError(http_error_msg, response=self)\n",
      "requests.exceptions.HTTPError: 401 Client Error: Unauthorized for url: https://huggingface.co/kpfbert/resolve/main/tokenizer_config.json\n",
      "\n",
      "The above exception was the direct cause of the following exception:\n",
      "\n",
      "Traceback (most recent call last):\n",
      "  File \"c:\\Dev\\Projects\\POSWAVE\\Release\\kpf-BERT-NER\\venv\\lib\\site-packages\\transformers\\utils\\hub.py\", line 409, in cached_file\n",
      "    resolved_file = hf_hub_download(\n",
      "  File \"c:\\Dev\\Projects\\POSWAVE\\Release\\kpf-BERT-NER\\venv\\lib\\site-packages\\huggingface_hub\\utils\\_validators.py\", line 124, in _inner_fn\n",
      "    return fn(*args, **kwargs)\n",
      "  File \"c:\\Dev\\Projects\\POSWAVE\\Release\\kpf-BERT-NER\\venv\\lib\\site-packages\\huggingface_hub\\file_download.py\", line 1067, in hf_hub_download\n",
      "    metadata = get_hf_file_metadata(\n",
      "  File \"c:\\Dev\\Projects\\POSWAVE\\Release\\kpf-BERT-NER\\venv\\lib\\site-packages\\huggingface_hub\\utils\\_validators.py\", line 124, in _inner_fn\n",
      "    return fn(*args, **kwargs)\n",
      "  File \"c:\\Dev\\Projects\\POSWAVE\\Release\\kpf-BERT-NER\\venv\\lib\\site-packages\\huggingface_hub\\file_download.py\", line 1376, in get_hf_file_metadata\n",
      "    hf_raise_for_status(r)\n",
      "  File \"c:\\Dev\\Projects\\POSWAVE\\Release\\kpf-BERT-NER\\venv\\lib\\site-packages\\huggingface_hub\\utils\\_errors.py\", line 268, in hf_raise_for_status\n",
      "    raise RepositoryNotFoundError(message, response) from e\n",
      "huggingface_hub.utils._errors.RepositoryNotFoundError: 401 Client Error. (Request ID: Root=1-63b53982-2a41a934101053ff2d90fb3a)\n",
      "\n",
      "Repository Not Found for url: https://huggingface.co/kpfbert/resolve/main/tokenizer_config.json.\n",
      "Please make sure you specified the correct `repo_id` and `repo_type`.\n",
      "If the repo is private, make sure you are authenticated.\n",
      "Invalid username or password.\n",
      "\n",
      "During handling of the above exception, another exception occurred:\n",
      "\n",
      "Traceback (most recent call last):\n",
      "  File \"c:\\Dev\\Projects\\POSWAVE\\Release\\kpf-BERT-NER\\train.py\", line 20, in <module>\n",
      "    import Dataset\n",
      "  File \"c:\\Dev\\Projects\\POSWAVE\\Release\\kpf-BERT-NER\\Dataset.py\", line 17, in <module>\n",
      "    tokenizer = AutoTokenizer.from_pretrained(\"kpfbert\")\n",
      "  File \"c:\\Dev\\Projects\\POSWAVE\\Release\\kpf-BERT-NER\\venv\\lib\\site-packages\\transformers\\models\\auto\\tokenization_auto.py\", line 582, in from_pretrained\n",
      "    tokenizer_config = get_tokenizer_config(pretrained_model_name_or_path, **kwargs)\n",
      "  File \"c:\\Dev\\Projects\\POSWAVE\\Release\\kpf-BERT-NER\\venv\\lib\\site-packages\\transformers\\models\\auto\\tokenization_auto.py\", line 433, in get_tokenizer_config\n",
      "    resolved_config_file = cached_file(\n",
      "  File \"c:\\Dev\\Projects\\POSWAVE\\Release\\kpf-BERT-NER\\venv\\lib\\site-packages\\transformers\\utils\\hub.py\", line 424, in cached_file\n",
      "    raise EnvironmentError(\n",
      "OSError: kpfbert is not a local folder and is not a valid model identifier listed on 'https://huggingface.co/models'\n",
      "If this is a private repository, make sure to pass a token having permission to this repo with `use_auth_token` or log in with `huggingface-cli login` and pass `use_auth_token=True`.\n"
     ]
    }
   ],
   "source": [
    "!python train.py -s \"../dataset/21_150tags_EntityLinking/NXEL2102203310/NXEL2102203310.json\" -o kpfbert-ner"
   ]
  },
  {
   "cell_type": "code",
   "execution_count": null,
   "metadata": {},
   "outputs": [],
   "source": []
  }
 ],
 "metadata": {
  "kernelspec": {
   "display_name": "venv",
   "language": "python",
   "name": "python3"
  },
  "language_info": {
   "codemirror_mode": {
    "name": "ipython",
    "version": 3
   },
   "file_extension": ".py",
   "mimetype": "text/x-python",
   "name": "python",
   "nbconvert_exporter": "python",
   "pygments_lexer": "ipython3",
   "version": "3.9.13"
  },
  "orig_nbformat": 4,
  "vscode": {
   "interpreter": {
    "hash": "6703b8562432beafe2a7f96104bc6d0cb0685168e35120b20b1b4069a6625149"
   }
  }
 },
 "nbformat": 4,
 "nbformat_minor": 2
}
